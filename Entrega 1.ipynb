{
 "cells": [
  {
   "cell_type": "code",
   "execution_count": 2,
   "metadata": {
    "collapsed": true
   },
   "outputs": [],
   "source": [
    "import numpy as np\n",
    "import cv2"
   ]
  },
  {
   "cell_type": "markdown",
   "metadata": {},
   "source": [
    "## Función de captura\n",
    "<p>Esta función captura la webcam del computador y aplica un filtro a cada frame del video capturado.</p>\n",
    "\n",
    "<h2>Parámetros</h2>\n",
    "<ul>\n",
    "<li>Función filtro que se le va a aplicar a cada frame.</li>\n",
    "<li>Array, en orden, con los parámetros de la función filtro.</li>\n",
    "</ul>"
   ]
  },
  {
   "cell_type": "code",
   "execution_count": 15,
   "metadata": {
    "collapsed": true
   },
   "outputs": [],
   "source": [
    "def captureAndApplyFilter(f, fparams=[]):\n",
    "    \n",
    "    # Get a reference to webcam #0 (the default one)\n",
    "    video_capture = cv2.VideoCapture(0)\n",
    "\n",
    "    while True:\n",
    "        # Grab a single frame of video\n",
    "        ret, frame = video_capture.read()\n",
    "        frame = cv2.cvtColor( frame, cv2.COLOR_BGR2GRAY )\n",
    "    \n",
    "        # Apply a filter to the frame\n",
    "        res = f(frame,*fparams)\n",
    "\n",
    "        cv2.imshow('Video', res)\n",
    "\n",
    "        # Hit 'q' on the keyboard to quit!\n",
    "        if cv2.waitKey(1) & 0xFF == ord('q'):\n",
    "            break\n",
    "\n",
    "    # Release handle to the webcam\n",
    "    video_capture.release()\n",
    "    cv2.destroyAllWindows()\n",
    "    print('Released Video Resource')"
   ]
  },
  {
   "cell_type": "markdown",
   "metadata": {},
   "source": [
    "## Funciones filtro\n",
    "<p>Funciones que reciben una imagen y devuelven una imagén modificada.</p>\n",
    "\n",
    "<ul>\n",
    "<li>Sin filtro</li>\n",
    "<li>Negativo</li>\n",
    "<li>Raiz con MedianBlur</li>\n",
    "<li>Thresholded</li>\n",
    "</ul>"
   ]
  },
  {
   "cell_type": "code",
   "execution_count": 16,
   "metadata": {
    "collapsed": true
   },
   "outputs": [],
   "source": [
    "def nonFilter(img): return img\n",
    "\n",
    "def negative(img):\n",
    "    img1_subtract= np.zeros(img.shape, np.uint8)\n",
    "    img1_subtract = cv2.subtract(255, img)\n",
    "    img1_subtract = cv2.subtract(img1_subtract,100)\n",
    "    return img1_subtract\n",
    "\n",
    "\n",
    "def non_linear_rootMod(img, a, b):\n",
    "    \n",
    "    img_copy = img.copy().astype(np.float32)/255.0\n",
    "    res_a = cv2.pow(img_copy,0.5)\n",
    "    res_a = cv2.multiply(res_a, a)\n",
    "    res = cv2.add(res_a,b)\n",
    "    \n",
    "    res[res<0] = 0\n",
    "    res = res*255.0\n",
    "    res[res>255] = 255\n",
    "    \n",
    "    res = res.astype(np.uint8)\n",
    "    res = cv2.medianBlur(res,5)\n",
    "    \n",
    "    return res\n",
    "\n",
    "def thresholdImg(img):\n",
    "#     th, thresholded = cv2.threshold(img,200,255,cv2.THRESH_BINARY)\n",
    "#     thresholded = cv2.adaptiveThreshold(img,255,cv2.ADAPTIVE_THRESH_GAUSSIAN_C,cv2.THRESH_BINARY,11,2)\n",
    "    thresholded = cv2.adaptiveThreshold(img,255,cv2.ADAPTIVE_THRESH_MEAN_C,cv2.THRESH_BINARY,11,2)\n",
    "    return thresholded"
   ]
  },
  {
   "cell_type": "markdown",
   "metadata": {},
   "source": [
    "## Ejecución Funciones\n",
    "<p>A continuación se ejcutan las funciones definidas en la celda anterior.</p>"
   ]
  },
  {
   "cell_type": "code",
   "execution_count": 30,
   "metadata": {},
   "outputs": [
    {
     "name": "stdout",
     "output_type": "stream",
     "text": [
      "Released Video Resource\n"
     ]
    }
   ],
   "source": [
    "# Normal\n",
    "captureAndApplyFilter(nonFilter)"
   ]
  },
  {
   "cell_type": "code",
   "execution_count": 31,
   "metadata": {},
   "outputs": [
    {
     "name": "stdout",
     "output_type": "stream",
     "text": [
      "Released Video Resource\n"
     ]
    }
   ],
   "source": [
    "# Negative\n",
    "captureAndApplyFilter(negative)"
   ]
  },
  {
   "cell_type": "code",
   "execution_count": 33,
   "metadata": {},
   "outputs": [
    {
     "name": "stdout",
     "output_type": "stream",
     "text": [
      "Released Video Resource\n"
     ]
    }
   ],
   "source": [
    "# Raiz con MedianBlur\n",
    "a = 1.3\n",
    "b = -0.1\n",
    "params = [a,b]\n",
    "captureAndApplyFilter(non_linear_rootMod,params)"
   ]
  },
  {
   "cell_type": "code",
   "execution_count": 13,
   "metadata": {},
   "outputs": [
    {
     "name": "stdout",
     "output_type": "stream",
     "text": [
      "Released Video Resource\n"
     ]
    }
   ],
   "source": [
    "# Threshold\n",
    "captureAndApplyFilter(thresholdImg)"
   ]
  }
 ],
 "metadata": {
  "kernelspec": {
   "display_name": "Python 3",
   "language": "python",
   "name": "python3"
  },
  "language_info": {
   "codemirror_mode": {
    "name": "ipython",
    "version": 3
   },
   "file_extension": ".py",
   "mimetype": "text/x-python",
   "name": "python",
   "nbconvert_exporter": "python",
   "pygments_lexer": "ipython3",
   "version": "3.6.3"
  }
 },
 "nbformat": 4,
 "nbformat_minor": 2
}
