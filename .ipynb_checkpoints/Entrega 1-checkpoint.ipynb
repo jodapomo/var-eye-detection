{
 "cells": [
  {
   "cell_type": "code",
   "execution_count": 2,
   "metadata": {
    "collapsed": true
   },
   "outputs": [],
   "source": [
    "import numpy as np\n",
    "import cv2"
   ]
  },
  {
   "cell_type": "markdown",
   "metadata": {},
   "source": [
    "## Función de captura\n",
    "<p>Esta función captura la webcam del computador y aplica un filtro a cada frame del video capturado.</p>\n",
    "\n",
    "<h2>Parámetros</h2>\n",
    "<ul>\n",
    "<li>Función filtro que se le va a aplicar a cada frame.</li>\n",
    "<li>Array, en orden, con los parámetros de la función filtro.</li>\n",
    "</ul>"
   ]
  },
  {
   "cell_type": "code",
   "execution_count": 3,
   "metadata": {
    "collapsed": true
   },
   "outputs": [],
   "source": [
    "def captureAndApplyFilter(f, fparams=[], path=''):\n",
    "    \n",
    "    if(len(path) > 0):\n",
    "        video_capture = cv2.VideoCapture(\"hola.mp4\")\n",
    "    else:\n",
    "        video_capture = cv2.VideoCapture(0)\n",
    "        \n",
    "\n",
    "    while True:\n",
    "        # Grab a single frame of video\n",
    "        ret, frame = video_capture.read()\n",
    "        \n",
    "        if not ret:\n",
    "            break\n",
    "        \n",
    "        frame = cv2.cvtColor( frame, cv2.COLOR_BGR2GRAY )\n",
    "    \n",
    "        # Apply a filter to the frame\n",
    "        res = f(frame,*fparams)\n",
    "\n",
    "        cv2.imshow('Video', res)\n",
    "\n",
    "        # Hit 'q' on the keyboard to quit!\n",
    "        if cv2.waitKey(30) & 0xFF == ord('q'):\n",
    "            break\n",
    "\n",
    "    # Release handle to the webcam\n",
    "    video_capture.release()\n",
    "    cv2.destroyAllWindows()\n",
    "    print('Released Video Resource')\n",
    "    \n",
    "def recordVideo(name):\n",
    "    # Create a VideoCapture object\n",
    "    cap = cv2.VideoCapture(0)\n",
    "\n",
    "    # Check if camera opened successfully\n",
    "    if (cap.isOpened() == False): \n",
    "      print(\"Unable to read camera feed\")\n",
    "\n",
    "    # Default resolutions of the frame are obtained.The default resolutions are system dependent.\n",
    "    # We convert the resolutions from float to integer.\n",
    "    frame_width = int(cap.get(3))\n",
    "    frame_height = int(cap.get(4))\n",
    "\n",
    "    # Define the codec and create VideoWriter object.The output is stored in 'outpy.avi' file.\n",
    "    path = (name + '.mp4')\n",
    "#     out = cv2.VideoWriter(path,cv2.VideoWriter_fourcc(*'XVID'), 30, (frame_width,frame_height))\n",
    "    out = cv2.VideoWriter(path,cv2.VideoWriter_fourcc(*'MP4V'), 30, (frame_width,frame_height))\n",
    "\n",
    "    while(True):\n",
    "      ret, frame = cap.read()\n",
    "\n",
    "      if ret == True: \n",
    "\n",
    "        # Write the frame into the file 'output.avi'\n",
    "        out.write(frame)\n",
    "\n",
    "        # Display the resulting frame    \n",
    "        cv2.imshow('frame',frame)\n",
    "\n",
    "        # Press Q on keyboard to stop recording\n",
    "        if cv2.waitKey(1) & 0xFF == ord('q'):\n",
    "          break\n",
    "\n",
    "      # Break the loop\n",
    "      else:\n",
    "        break \n",
    "\n",
    "    # When everything done, release the video capture and video write objects\n",
    "    cap.release()\n",
    "    out.release()\n",
    "    # Closes all the frames\n",
    "    cv2.destroyAllWindows()\n"
   ]
  },
  {
   "cell_type": "markdown",
   "metadata": {},
   "source": [
    "## Funciones filtro\n",
    "<p>Funciones que reciben una imagen y devuelven una imagén modificada.</p>\n",
    "\n",
    "<ul>\n",
    "<li>Sin filtro</li>\n",
    "<li>Negativo</li>\n",
    "<li>Raiz con MedianBlur</li>\n",
    "<li>Thresholded</li>\n",
    "</ul>"
   ]
  },
  {
   "cell_type": "code",
   "execution_count": 4,
   "metadata": {
    "collapsed": true
   },
   "outputs": [],
   "source": [
    "def nonFilter(img): return img\n",
    "\n",
    "def negative(img):\n",
    "    img1_subtract= np.zeros(img.shape, np.uint8)\n",
    "    img1_subtract = cv2.subtract(255, img)\n",
    "    img1_subtract = cv2.subtract(img1_subtract,100)\n",
    "    return img1_subtract\n",
    "\n",
    "\n",
    "def non_linear_rootMod(img, a, b):\n",
    "    \n",
    "    img_copy = img.copy().astype(np.float32)/255.0\n",
    "    res_a = cv2.pow(img_copy,0.5)\n",
    "    res_a = cv2.multiply(res_a, a)\n",
    "    res = cv2.add(res_a,b)\n",
    "    \n",
    "    res[res<0] = 0\n",
    "    res = res*255.0\n",
    "    res[res>255] = 255\n",
    "    \n",
    "    res = img.astype(np.uint8)\n",
    "    res = cv2.medianBlur(res,5)\n",
    "    \n",
    "    return res\n",
    "\n",
    "def thresholdImg(img):\n",
    "    thresholded = cv2.adaptiveThreshold(img,255,cv2.ADAPTIVE_THRESH_GAUSSIAN_C,cv2.THRESH_BINARY,23,5)\n",
    "#     thresholded = cv2.adaptiveThreshold(img,255,cv2.ADAPTIVE_THRESH_MEAN_C,cv2.THRESH_BINARY,5,1)\n",
    "#     thresholded = cv2.Canny(img,100,200)\n",
    "    return thresholded\n",
    "def histeq(img):\n",
    "     return cv2.equalizeHist(img)"
   ]
  },
  {
   "cell_type": "markdown",
   "metadata": {},
   "source": [
    "## Ejecución Funciones\n",
    "<p>A continuación se ejcutan las funciones definidas en la celda anterior.</p>"
   ]
  },
  {
   "cell_type": "code",
   "execution_count": 4,
   "metadata": {},
   "outputs": [
    {
     "name": "stdout",
     "output_type": "stream",
     "text": [
      "Released Video Resource\n"
     ]
    }
   ],
   "source": [
    "# Normal\n",
    "captureAndApplyFilter(nonFilter)"
   ]
  },
  {
   "cell_type": "code",
   "execution_count": 5,
   "metadata": {},
   "outputs": [
    {
     "name": "stdout",
     "output_type": "stream",
     "text": [
      "Released Video Resource\n"
     ]
    }
   ],
   "source": [
    "# Negative\n",
    "captureAndApplyFilter(negative)"
   ]
  },
  {
   "cell_type": "code",
   "execution_count": null,
   "metadata": {
    "collapsed": true
   },
   "outputs": [],
   "source": [
    "# Raiz con MedianBlur\n",
    "a = 1.3\n",
    "b = -0.1\n",
    "params = [a,b]\n",
    "captureAndApplyFilter(non_linear_rootMod,params)"
   ]
  },
  {
   "cell_type": "code",
   "execution_count": 6,
   "metadata": {},
   "outputs": [
    {
     "name": "stdout",
     "output_type": "stream",
     "text": [
      "Released Video Resource\n"
     ]
    }
   ],
   "source": [
    "# Threshold\n",
    "captureAndApplyFilter(thresholdImg)"
   ]
  },
  {
   "cell_type": "code",
   "execution_count": 14,
   "metadata": {},
   "outputs": [
    {
     "name": "stdout",
     "output_type": "stream",
     "text": [
      "Released Video Resource\n"
     ]
    }
   ],
   "source": [
    "# Ecualización histograma\n",
    "captureAndApplyFilter(histeq)"
   ]
  },
  {
   "cell_type": "code",
   "execution_count": 20,
   "metadata": {
    "collapsed": true
   },
   "outputs": [],
   "source": [
    "# Graba un video desde la webcam y le pone el nombre pasado como parámtro\n",
    "recordVideo('video1')"
   ]
  },
  {
   "cell_type": "code",
   "execution_count": 21,
   "metadata": {},
   "outputs": [
    {
     "name": "stdout",
     "output_type": "stream",
     "text": [
      "Released Video Resource\n"
     ]
    }
   ],
   "source": [
    "# Lee un video y le aplica un filtro\n",
    "captureAndApplyFilter(thresholdImg,path='video1.mp4')"
   ]
  },
  {
   "cell_type": "code",
   "execution_count": 4,
   "metadata": {
    "collapsed": true
   },
   "outputs": [],
   "source": [
    "import cv2\n",
    "import numpy as np\n",
    "\n",
    "cap = cv2.VideoCapture(0)\n",
    "\n",
    "while(1):\n",
    "\n",
    "    _, frame = cap.read()\n",
    "    \n",
    "    hsv = cv2.cvtColor(frame, cv2.COLOR_BGR2HSV)\n",
    "    h, s, v = cv2.split(hsv)\n",
    "\n",
    "    value = 500\n",
    "    \n",
    "    lim = 255 - value\n",
    "    v[v > lim] = 255\n",
    "    v[v <= lim] += value\n",
    "\n",
    "    final_hsv = cv2.merge((h, s, v))\n",
    "    frame = cv2.cvtColor(final_hsv, cv2.COLOR_HSV2BGR)\n",
    "\n",
    "    cv2.imshow('Original',frame)\n",
    "    edges = cv2.Canny(frame,100,200)\n",
    "    cv2.imshow('Edges',edges)\n",
    "\n",
    "    k = cv2.waitKey(5) & 0xFF\n",
    "    if k == 27:\n",
    "        break\n",
    "\n",
    "cv2.destroyAllWindows()\n",
    "cap.release()"
   ]
  }
 ],
 "metadata": {
  "kernelspec": {
   "display_name": "Python 3",
   "language": "python",
   "name": "python3"
  },
  "language_info": {
   "codemirror_mode": {
    "name": "ipython",
    "version": 3
   },
   "file_extension": ".py",
   "mimetype": "text/x-python",
   "name": "python",
   "nbconvert_exporter": "python",
   "pygments_lexer": "ipython3",
   "version": "3.6.3"
  }
 },
 "nbformat": 4,
 "nbformat_minor": 2
}
